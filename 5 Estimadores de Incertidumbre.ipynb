{
 "cells": [
  {
   "cell_type": "code",
   "execution_count": 2,
   "metadata": {
    "collapsed": false
   },
   "outputs": [],
   "source": [
    "from sklearn.datasets import load_iris\n",
    "from sklearn.model_selection import train_test_split\n",
    "from sklearn import svm"
   ]
  },
  {
   "cell_type": "code",
   "execution_count": 3,
   "metadata": {
    "collapsed": true
   },
   "outputs": [],
   "source": [
    "iris = load_iris()"
   ]
  },
  {
   "cell_type": "code",
   "execution_count": 4,
   "metadata": {
    "collapsed": true
   },
   "outputs": [],
   "source": [
    "Xe, Xt, ye, yt = train_test_split(iris.data, iris.target)"
   ]
  },
  {
   "cell_type": "code",
   "execution_count": 5,
   "metadata": {
    "collapsed": false
   },
   "outputs": [],
   "source": [
    "algoritmo = svm.SVC(probability = True)"
   ]
  },
  {
   "cell_type": "code",
   "execution_count": 6,
   "metadata": {
    "collapsed": false
   },
   "outputs": [
    {
     "data": {
      "text/plain": [
       "SVC(C=1.0, cache_size=200, class_weight=None, coef0=0.0,\n",
       "  decision_function_shape=None, degree=3, gamma='auto', kernel='rbf',\n",
       "  max_iter=-1, probability=True, random_state=None, shrinking=True,\n",
       "  tol=0.001, verbose=False)"
      ]
     },
     "execution_count": 6,
     "metadata": {},
     "output_type": "execute_result"
    }
   ],
   "source": [
    "algoritmo.fit(Xe, ye)"
   ]
  },
  {
   "cell_type": "code",
   "execution_count": 7,
   "metadata": {
    "collapsed": false
   },
   "outputs": [
    {
     "data": {
      "text/plain": [
       "array([[-0.28981896,  0.85298284,  2.43683611],\n",
       "       [-0.33713267,  2.37448803,  0.96264464],\n",
       "       [-0.33038573,  0.94195747,  2.38842826],\n",
       "       [-0.30580966,  2.49633095,  0.80947871],\n",
       "       [ 2.30997406,  0.85888041, -0.16885447],\n",
       "       [-0.33062716,  0.8510021 ,  2.47962506],\n",
       "       [ 2.32602856,  0.88790534, -0.2139339 ],\n",
       "       [ 2.37641349,  0.80533167, -0.18174516],\n",
       "       [-0.35495335,  1.07008113,  2.28487222],\n",
       "       [-0.33335115,  2.28675737,  1.04659379]])"
      ]
     },
     "execution_count": 7,
     "metadata": {},
     "output_type": "execute_result"
    }
   ],
   "source": [
    "#que tan lejos esta el punto del hiper plano que clasifica\n",
    "algoritmo.decision_function_shape = \"ovr\"\n",
    "algoritmo.decision_function(Xt)[:10]"
   ]
  },
  {
   "cell_type": "code",
   "execution_count": 8,
   "metadata": {
    "collapsed": false
   },
   "outputs": [
    {
     "data": {
      "text/plain": [
       "array([[ 0.01186195,  0.0130672 ,  0.97507085],\n",
       "       [ 0.01305383,  0.94686884,  0.04007733],\n",
       "       [ 0.01322813,  0.02323953,  0.96353234],\n",
       "       [ 0.01002466,  0.98237717,  0.00759817],\n",
       "       [ 0.91108295,  0.04685377,  0.04206328],\n",
       "       [ 0.01080958,  0.00616947,  0.98302095],\n",
       "       [ 0.92447163,  0.04609526,  0.02943311],\n",
       "       [ 0.95092165,  0.02287721,  0.02620114],\n",
       "       [ 0.01345164,  0.13006302,  0.85648534],\n",
       "       [ 0.01783834,  0.85616358,  0.12599808]])"
      ]
     },
     "execution_count": 8,
     "metadata": {},
     "output_type": "execute_result"
    }
   ],
   "source": [
    "algoritmo.predict_proba(Xt)[:10]"
   ]
  },
  {
   "cell_type": "code",
   "execution_count": 10,
   "metadata": {
    "collapsed": false
   },
   "outputs": [
    {
     "data": {
      "text/plain": [
       "array([2, 1, 2, 1, 0, 2, 0, 0, 2, 1])"
      ]
     },
     "execution_count": 10,
     "metadata": {},
     "output_type": "execute_result"
    }
   ],
   "source": [
    "algoritmo.predict(Xt)[:10]"
   ]
  },
  {
   "cell_type": "code",
   "execution_count": null,
   "metadata": {
    "collapsed": true
   },
   "outputs": [],
   "source": []
  },
  {
   "cell_type": "code",
   "execution_count": null,
   "metadata": {
    "collapsed": true
   },
   "outputs": [],
   "source": []
  }
 ],
 "metadata": {
  "kernelspec": {
   "display_name": "Python 3",
   "language": "python",
   "name": "python3"
  },
  "language_info": {
   "codemirror_mode": {
    "name": "ipython",
    "version": 3
   },
   "file_extension": ".py",
   "mimetype": "text/x-python",
   "name": "python",
   "nbconvert_exporter": "python",
   "pygments_lexer": "ipython3",
   "version": "3.6.0"
  }
 },
 "nbformat": 4,
 "nbformat_minor": 2
}
